{
 "cells": [
  {
   "cell_type": "markdown",
   "metadata": {},
   "source": [
    "Вы работаете секретарем и вам постоянно приходят различные документы. Вы должны быть очень внимательны, чтобы не потерять ни один документ. Каталог документов хранится в следующем виде:"
   ]
  },
  {
   "cell_type": "code",
   "execution_count": 12,
   "metadata": {},
   "outputs": [],
   "source": [
    "documents = [\n",
    "    {'type': 'passport', 'number': '2207 876234', 'name': 'Василий Гупкин'},\n",
    "    {'type': 'invoice', 'number': '11-2', 'name': 'Геннадий Покемонов'},\n",
    "    {'type': 'insurance', 'number': '10006', 'name': 'Аристарх Павлов'}\n",
    "]"
   ]
  },
  {
   "cell_type": "markdown",
   "metadata": {},
   "source": [
    "Перечень полок, на которых находятся документы хранится в следующем виде:"
   ]
  },
  {
   "cell_type": "code",
   "execution_count": 13,
   "metadata": {},
   "outputs": [],
   "source": [
    "directories = {\n",
    "    '1': ['2207 876234', '11-2'],\n",
    "    '2': ['10006'],\n",
    "    '3': []\n",
    "}"
   ]
  },
  {
   "cell_type": "markdown",
   "metadata": {},
   "source": [
    "Необходимо реализовать пользовательские команды (внимание! это не название функций, которые должны быть выразительными, а команды, которые вводит пользователь, чтобы получить необходимый результат):\n",
    "\n",
    "- p – people – команда, которая спросит номер документа и выведет имя человека, которому он принадлежит;\n",
    "- s – shelf – команда, которая спросит номер документа и выведет номер полки, на которой он находится Правильно обработайте ситуации, когда пользователь будет вводить несуществующий документ.\n",
    "- l – list – команда, которая выведет список всех документов в формате passport \"2207 876234\" \"Василий Гупкин\"\n",
    "- as – add shelf – команда, которая спросит номер новой полки и добавит ее в перечень. Предусмотрите случай, когда пользователь добавляет полку, которая уже существует.\n",
    "- d – delete – команда, которая спросит номер документа и удалит его из каталога и из перечня полок. Предусмотрите сценарий, когда пользователь вводит несуществующий документ;\n",
    "- m – move – команда, которая спросит номер документа и целевую полку и переместит его с текущей полки на целевую. Корректно обработайте кейсы, когда пользователь пытается переместить несуществующий документ или переместить документ на несуществующую полку;\n",
    "- a – add – команда, которая добавит новый документ в каталог и в перечень полок, спросив его номер, тип, имя владельца и номер полки, на котором он будет храниться. Корректно обработайте ситуацию, когда пользователь будет пытаться добавить документ на несуществующую полку."
   ]
  },
  {
   "cell_type": "code",
   "execution_count": 23,
   "metadata": {},
   "outputs": [],
   "source": [
    "def person_name_of_doc():\n",
    "    number_user_input = input('Введите номер документа: ')\n",
    "    quest_name = ''\n",
    "    for doc in documents:\n",
    "        if doc['number'] == number_user_input:\n",
    "            print(f\"Владелец запрашиваемого документа -  {doc['name']}\")\n",
    "            return\n",
    "    print(f\"Такого документа не существует \")"
   ]
  },
  {
   "cell_type": "code",
   "execution_count": 24,
   "metadata": {},
   "outputs": [
    {
     "name": "stdout",
     "output_type": "stream",
     "text": [
      "Введите номер документа: 11-2\n",
      "Владелец запрашиваемого документа -  Геннадий Покемонов\n"
     ]
    }
   ],
   "source": [
    "person_name_of_doc()"
   ]
  },
  {
   "cell_type": "code",
   "execution_count": 25,
   "metadata": {},
   "outputs": [
    {
     "name": "stdout",
     "output_type": "stream",
     "text": [
      "Введите номер документа: 5\n",
      "Такого документа не существует \n"
     ]
    }
   ],
   "source": [
    "person_name_of_doc()"
   ]
  },
  {
   "cell_type": "code",
   "execution_count": 19,
   "metadata": {},
   "outputs": [],
   "source": [
    "def shelf_num_of_doc():\n",
    "    number_user_input = input('Введите номер документа: ')\n",
    "    for shelf, doc in directories.items():\n",
    "        if number_user_input in doc:\n",
    "            print(f\"Местоположение запрашиваемого документа - полка {shelf}\")\n",
    "            return\n",
    "    print(f\"Такого документа не существует \")"
   ]
  },
  {
   "cell_type": "code",
   "execution_count": 21,
   "metadata": {},
   "outputs": [
    {
     "name": "stdout",
     "output_type": "stream",
     "text": [
      "Введите номер документа: 11-2\n",
      "Местоположение запрашиваемого документа - полка 1\n"
     ]
    }
   ],
   "source": [
    "shelf_num_of_doc()"
   ]
  },
  {
   "cell_type": "code",
   "execution_count": 22,
   "metadata": {},
   "outputs": [
    {
     "name": "stdout",
     "output_type": "stream",
     "text": [
      "Введите номер документа: 666\n",
      "Такого документа не существует \n"
     ]
    }
   ],
   "source": [
    "shelf_num_of_doc()"
   ]
  },
  {
   "cell_type": "code",
   "execution_count": 26,
   "metadata": {},
   "outputs": [],
   "source": [
    "def list_of_doc():\n",
    "    for doc in documents:\n",
    "        print(f'''{doc['type']} \"{doc['number']}\" \"{doc['name']}\"''')"
   ]
  },
  {
   "cell_type": "code",
   "execution_count": 27,
   "metadata": {},
   "outputs": [
    {
     "name": "stdout",
     "output_type": "stream",
     "text": [
      "passport \"2207 876234\" \"Василий Гупкин\"\n",
      "invoice \"11-2\" \"Геннадий Покемонов\"\n",
      "insurance \"10006\" \"Аристарх Павлов\"\n"
     ]
    }
   ],
   "source": [
    "list_of_doc()"
   ]
  },
  {
   "cell_type": "code",
   "execution_count": 28,
   "metadata": {},
   "outputs": [],
   "source": [
    "def add_shelf():\n",
    "    number_shelf_input = input('Введите номер для новой полки: ')\n",
    "    if number_shelf_input in directories:\n",
    "        print('Такой номер полки уже существует')\n",
    "    else:\n",
    "        directories[number_shelf_input] = []\n",
    "        print(f'Обновленный перечень полок {directories}')"
   ]
  },
  {
   "cell_type": "code",
   "execution_count": 29,
   "metadata": {},
   "outputs": [
    {
     "name": "stdout",
     "output_type": "stream",
     "text": [
      "Введите номер для новой полки: 1\n",
      "Такой номер полки уже существует\n"
     ]
    }
   ],
   "source": [
    "add_shelf()"
   ]
  },
  {
   "cell_type": "code",
   "execution_count": 30,
   "metadata": {},
   "outputs": [
    {
     "name": "stdout",
     "output_type": "stream",
     "text": [
      "Введите номер для новой полки: 4\n",
      "Обновленный перечень полок {'1': ['2207 876234', '11-2'], '2': ['10006'], '3': [], '4': []}\n"
     ]
    }
   ],
   "source": [
    "add_shelf()"
   ]
  },
  {
   "cell_type": "code",
   "execution_count": 31,
   "metadata": {},
   "outputs": [],
   "source": [
    "def delete_doc():\n",
    "    number_doc_input = input('Введите номер документа для удаления из базы: ')\n",
    "    del_check = 0\n",
    "    for doc in documents:\n",
    "        if doc['number'] == number_doc_input:\n",
    "            documents.remove(doc)\n",
    "            del_check = 1\n",
    "    if del_check == 0:\n",
    "        print(f\"Документ не найден и не удален\")\n",
    "        return\n",
    "    for docs_on_shelf in directories.values():\n",
    "        [docs_on_shelf.remove(doc_on_shelf) for doc_on_shelf in docs_on_shelf if doc_on_shelf == number_doc_input]\n",
    "    print(f\"Документ {number_doc_input} удален\")"
   ]
  },
  {
   "cell_type": "code",
   "execution_count": 51,
   "metadata": {},
   "outputs": [
    {
     "name": "stdout",
     "output_type": "stream",
     "text": [
      "Введите номер документа для удаления из базы: 5\n",
      "Документ не найден и не удален\n",
      "{'type': 'passport', 'number': '2207 876234', 'name': 'Василий Гупкин'}\n",
      "{'type': 'invoice', 'number': '11-2', 'name': 'Геннадий Покемонов'}\n",
      "{'type': 'insurance', 'number': '10006', 'name': 'Аристарх Павлов'}\n",
      "{'1': ['2207 876234', '11-2'], '2': ['10006'], '3': [], '4': []}\n"
     ]
    }
   ],
   "source": [
    "delete_doc()\n",
    "{print(doc) for doc in documents}\n",
    "print(directories)"
   ]
  },
  {
   "cell_type": "code",
   "execution_count": 52,
   "metadata": {},
   "outputs": [
    {
     "name": "stdout",
     "output_type": "stream",
     "text": [
      "Введите номер документа для удаления из базы: 11-2\n",
      "Документ 11-2 удален\n",
      "{'type': 'passport', 'number': '2207 876234', 'name': 'Василий Гупкин'}\n",
      "{'type': 'insurance', 'number': '10006', 'name': 'Аристарх Павлов'}\n",
      "{'1': ['2207 876234'], '2': ['10006'], '3': [], '4': []}\n"
     ]
    }
   ],
   "source": [
    "delete_doc()\n",
    "{print(doc) for doc in documents}\n",
    "print(directories)"
   ]
  },
  {
   "cell_type": "code",
   "execution_count": 53,
   "metadata": {},
   "outputs": [],
   "source": [
    "def move_doc():\n",
    "    number_doc_input = input('Введите номер документа для перемещения: ')\n",
    "    shelf_tomove_input = input('Введите номер целевой полки, куда переместить документ: ')\n",
    "    shelf_check = 'не'\n",
    "    doc_check = 'не'\n",
    "    for shelf, docs_on_shelf in directories.items():\n",
    "        if shelf == shelf_tomove_input:\n",
    "            shelf_check = ''\n",
    "        if number_doc_input in docs_on_shelf:\n",
    "            doc_check = ''\n",
    "    if doc_check == 'не' or shelf_check == 'не':\n",
    "        print(f\"Документ {number_doc_input} {doc_check} найден. Полка {shelf_tomove_input} {shelf_check} существует\")\n",
    "        return\n",
    "    for shelf, docs_on_shelf in directories.items():\n",
    "        [docs_on_shelf.remove(doc_on_shelf) for doc_on_shelf in docs_on_shelf if doc_on_shelf == number_doc_input]\n",
    "        if shelf == shelf_tomove_input:\n",
    "            docs_on_shelf.append(number_doc_input)    \n",
    "    print(f\"Документ {number_doc_input} перемещен на полку {shelf_tomove_input}\")"
   ]
  },
  {
   "cell_type": "code",
   "execution_count": 54,
   "metadata": {},
   "outputs": [
    {
     "name": "stdout",
     "output_type": "stream",
     "text": [
      "Введите номер документа для перемещения: 10006\n",
      "Введите номер целевой полки, куда переместить документ: 4\n",
      "Документ 10006 перемещен на полку 4\n",
      "{'1': ['2207 876234'], '2': [], '3': [], '4': ['10006']}\n"
     ]
    }
   ],
   "source": [
    "move_doc()\n",
    "print(directories)"
   ]
  },
  {
   "cell_type": "code",
   "execution_count": 55,
   "metadata": {},
   "outputs": [
    {
     "name": "stdout",
     "output_type": "stream",
     "text": [
      "Введите номер документа для перемещения: 4466464\n",
      "Введите номер целевой полки, куда переместить документ: 2\n",
      "Документ 4466464 не найден. Полка 2  существует\n",
      "{'1': ['2207 876234'], '2': [], '3': [], '4': ['10006']}\n"
     ]
    }
   ],
   "source": [
    "move_doc()\n",
    "print(directories)"
   ]
  },
  {
   "cell_type": "code",
   "execution_count": 56,
   "metadata": {},
   "outputs": [
    {
     "name": "stdout",
     "output_type": "stream",
     "text": [
      "Введите номер документа для перемещения: 10006\n",
      "Введите номер целевой полки, куда переместить документ: 888\n",
      "Документ 10006  найден. Полка 888 не существует\n",
      "{'1': ['2207 876234'], '2': [], '3': [], '4': ['10006']}\n"
     ]
    }
   ],
   "source": [
    "move_doc()\n",
    "print(directories)"
   ]
  },
  {
   "cell_type": "code",
   "execution_count": 57,
   "metadata": {},
   "outputs": [],
   "source": [
    "def add_doc():\n",
    "    number_doc_input = input('Введите номер документа для создания: ')\n",
    "    type_doc_input =  input('Введите тип документа: ')\n",
    "    name_doc_input = input('Введите имя владельца документа: ')\n",
    "    shelf_input = input('Введите номер полки, куда поместить документ: ')\n",
    "    shelf_check = 0\n",
    "    for shelf in directories.keys():\n",
    "        if shelf == shelf_input:\n",
    "            shelf_check = 1\n",
    "    if shelf_check == 0:\n",
    "        print(f\"Полка {shelf_input} не существует\")\n",
    "        return \n",
    "    documents.append({'type': type_doc_input, 'number': number_doc_input, 'name': name_doc_input})  \n",
    "    for shelf, docs_on_shelf in directories.items():\n",
    "        if shelf == shelf_input:\n",
    "            docs_on_shelf.append(number_doc_input)    \n",
    "    print(f\"Документ {number_doc_input} создан и помещен на полку {shelf_input}\")"
   ]
  },
  {
   "cell_type": "code",
   "execution_count": 58,
   "metadata": {},
   "outputs": [
    {
     "name": "stdout",
     "output_type": "stream",
     "text": [
      "Введите номер документа для создания: 444\n",
      "Введите тип документа: INN\n",
      "Введите имя владельца документа: Fedor Borsch\n",
      "Введите номер полки, куда поместить документ: 3\n",
      "Документ 444 создан и помещен на полку 3\n",
      "{'type': 'passport', 'number': '2207 876234', 'name': 'Василий Гупкин'}\n",
      "{'type': 'insurance', 'number': '10006', 'name': 'Аристарх Павлов'}\n",
      "{'type': 'INN', 'number': '444', 'name': 'Fedor Borsch'}\n",
      "{'1': ['2207 876234'], '2': [], '3': ['444'], '4': ['10006']}\n"
     ]
    }
   ],
   "source": [
    "add_doc()\n",
    "{print(doc) for doc in documents}\n",
    "print(directories)"
   ]
  },
  {
   "cell_type": "code",
   "execution_count": 59,
   "metadata": {},
   "outputs": [
    {
     "name": "stdout",
     "output_type": "stream",
     "text": [
      "Введите номер документа для создания: 5\n",
      "Введите тип документа: pass\n",
      "Введите имя владельца документа: Lenochka\n",
      "Введите номер полки, куда поместить документ: 8\n",
      "Полка 8 не существует\n",
      "{'type': 'passport', 'number': '2207 876234', 'name': 'Василий Гупкин'}\n",
      "{'type': 'insurance', 'number': '10006', 'name': 'Аристарх Павлов'}\n",
      "{'type': 'INN', 'number': '444', 'name': 'Fedor Borsch'}\n",
      "{'1': ['2207 876234'], '2': [], '3': ['444'], '4': ['10006']}\n"
     ]
    }
   ],
   "source": [
    "add_doc()\n",
    "{print(doc) for doc in documents}\n",
    "print(directories)"
   ]
  },
  {
   "cell_type": "code",
   "execution_count": 80,
   "metadata": {},
   "outputs": [],
   "source": [
    "def main():\n",
    "    print('Введите команду на выбор',\n",
    "    'p – команда выведет имя человека, которому принадлежит документ;',\n",
    "    's – команда выведет номер полки, на которой он находится документ',\n",
    "    'l – команда, которая выведет список всех докуметов',\n",
    "    'as – команда добавит новую полку в перечень',\n",
    "    'd – команда удалит документ из каталога и из перечня полок',\n",
    "    'm – команда переместит документ с текущей полки на целевую',\n",
    "    'a – команда добавит новый документ в каталог и в перечень полок',\n",
    "    'stop - окончание работ',sep='\\n' )\n",
    "    while True:\n",
    "        user_input = input('Введите команду')\n",
    "        if user_input == 'p':\n",
    "            person_name_of_doc()\n",
    "        elif user_input == 's':\n",
    "            shelf_num_of_doc()\n",
    "        elif user_input == 'l':\n",
    "            list_of_doc()\n",
    "        elif user_input == 'as':\n",
    "            add_shelf()\n",
    "        elif user_input == 'd':\n",
    "            delete_doc()\n",
    "        elif user_input == 'm':\n",
    "            move_doc()\n",
    "        elif user_input == 'a':\n",
    "            add_doc()\n",
    "        elif user_input == 'stop':\n",
    "            print('До свидание')\n",
    "            break"
   ]
  },
  {
   "cell_type": "code",
   "execution_count": 81,
   "metadata": {},
   "outputs": [
    {
     "name": "stdout",
     "output_type": "stream",
     "text": [
      "Введите команду на выбор\n",
      "p – команда выведет имя человека, которому принадлежит документ;\n",
      "s – команда выведет номер полки, на которой он находится документ\n",
      "l – команда, которая выведет список всех докуметов\n",
      "as – команда добавит новую полку в перечень\n",
      "d – команда удалит документ из каталога и из перечня полок\n",
      "m – команда переместит документ с текущей полки на целевую\n",
      "a – команда добавит новый документ в каталог и в перечень полок\n",
      "stop - окончание работ\n",
      "Введите командуl\n",
      "passport \"2207 876234\" \"Василий Гупкин\"\n",
      "insurance \"10006\" \"Аристарх Павлов\"\n",
      "INN \"444\" \"Fedor Borsch\"\n",
      "Введите командуa\n",
      "Введите номер документа для создания: 777\n",
      "Введите тип документа: passport\n",
      "Введите имя владельца документа: Georgiy Nos\n",
      "Введите номер полки, куда поместить документ: 2\n",
      "Документ 777 создан и помещен на полку 2\n",
      "Введите командуl\n",
      "passport \"2207 876234\" \"Василий Гупкин\"\n",
      "insurance \"10006\" \"Аристарх Павлов\"\n",
      "INN \"444\" \"Fedor Borsch\"\n",
      "passport \"777\" \"Georgiy Nos\"\n",
      "Введите командуs\n",
      "Введите номер документа: 777\n",
      "Местоположение запрашиваемого документа - полка 2\n",
      "Введите командуstop\n",
      "До свидание\n"
     ]
    }
   ],
   "source": [
    "main()"
   ]
  },
  {
   "cell_type": "code",
   "execution_count": null,
   "metadata": {},
   "outputs": [],
   "source": []
  }
 ],
 "metadata": {
  "kernelspec": {
   "display_name": "Python 3",
   "language": "python",
   "name": "python3"
  },
  "language_info": {
   "codemirror_mode": {
    "name": "ipython",
    "version": 3
   },
   "file_extension": ".py",
   "mimetype": "text/x-python",
   "name": "python",
   "nbconvert_exporter": "python",
   "pygments_lexer": "ipython3",
   "version": "3.7.6"
  }
 },
 "nbformat": 4,
 "nbformat_minor": 4
}
