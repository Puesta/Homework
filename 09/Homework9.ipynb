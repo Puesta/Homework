{
 "cells": [
  {
   "cell_type": "markdown",
   "metadata": {},
   "source": [
    "**Задание 1.**\n",
    "Напишите функцию, которая принимает на вход строку и проверяет является ли она валидным транспортным номером. Если да, то функция должна возвращать отдельно номер и регион."
   ]
  },
  {
   "cell_type": "code",
   "execution_count": 2,
   "metadata": {},
   "outputs": [],
   "source": [
    "import re "
   ]
  },
  {
   "cell_type": "code",
   "execution_count": 58,
   "metadata": {},
   "outputs": [],
   "source": [
    "def auto_check():\n",
    "    user_input_auto = input('Введите транспортный номер:')\n",
    "    auto_num = user_input_auto.split()\n",
    "    auto_num = ''.join(auto_num)\n",
    "    if re.findall(r'[а-яА-Я]{1}\\d{3}[а-яА-Я]{2}\\d{2}', auto_num) and len(auto_num) == 8:\n",
    "        number = re.findall(r'[а-яА-Я]{1}\\d{3}[а-яА-Я]{2}', auto_num)\n",
    "        region = re.findall(r'\\d{2}$', auto_num)\n",
    "        print(f'Номер транспортного средства - {number[0]}\\nРегион транспортного средства - {region[0]}')\n",
    "    else: \n",
    "        print(f'{user_input_auto} - Не является валидным транспортным номером')"
   ]
  },
  {
   "cell_type": "code",
   "execution_count": 59,
   "metadata": {},
   "outputs": [
    {
     "name": "stdout",
     "output_type": "stream",
     "text": [
      "Введите транспортный номер:g123gg56\n",
      "g123gg56 - Не является валидным транспортным номером\n"
     ]
    }
   ],
   "source": [
    "auto_check()"
   ]
  },
  {
   "cell_type": "code",
   "execution_count": 60,
   "metadata": {},
   "outputs": [
    {
     "name": "stdout",
     "output_type": "stream",
     "text": [
      "Введите транспортный номер:а 123 аа 55\n",
      "Номер транспортного средства - а123аа\n",
      "Регион транспортного средства - 55\n"
     ]
    }
   ],
   "source": [
    "auto_check()"
   ]
  },
  {
   "cell_type": "markdown",
   "metadata": {},
   "source": [
    "**Задание 2.**\n",
    "Постарайтесь написать (в крайнем случае найти) самый полный шаблон для проверки e-mail адресов через регулярное выражение, которая проверяет e-mail адрес на валидность. Можно руководствоваться следующими минимальными требованиями:\n",
    "- адрес должен содержать специальный символ “@”, который отделяет имя пользователя почтовой системы от доменного имени;\n",
    "- адрес не должен содержать следующие символы: “пробел”, “,”, “:”, “;”, “!”, “#”, “%”, “*”, “(”, “)”, “=”, “+”, “{”, “}”, \" \" \", \" ’ \", \" / \", \" \\ \" и “|”;\n",
    "- адрес должен состоять только из латинских символов;\n",
    "- после символа “@” должна быть как минимум одна “.”;\n",
    "- после последней точки должно быть не менее 2-х и не более 4-х символов, причем наличие цифр не допускается;\n",
    "- между последней точкой и символом “@” должно быть не менее 2-х символов\n",
    "- слева от “@” должно быть не менее четырех символов"
   ]
  },
  {
   "cell_type": "code",
   "execution_count": 114,
   "metadata": {},
   "outputs": [
    {
     "data": {
      "text/plain": [
       "['ivds-n6766@mail.ru']"
      ]
     },
     "execution_count": 114,
     "metadata": {},
     "output_type": "execute_result"
    }
   ],
   "source": [
    "mail = 'ivds-n6766@mail.ru'\n",
    "re.findall(r'^[a-zA-Z0-9_-]{4,}@[a-zA-Z0-9]{2,}\\.[a-zA-Z]{2,4}$', mail)"
   ]
  },
  {
   "cell_type": "markdown",
   "metadata": {},
   "source": [
    "**Задание 3.**\n",
    "Напишите функцию, которая будет удалять все последовательные повторы слов из заданной строки при помощи регулярных выражений."
   ]
  },
  {
   "cell_type": "markdown",
   "metadata": {},
   "source": [
    "!! Считаем слова через запятую повторяющимися"
   ]
  },
  {
   "cell_type": "code",
   "execution_count": 34,
   "metadata": {},
   "outputs": [],
   "source": [
    "def sentence_check():\n",
    "    sentence = 'Ваша идея идея, конечно, безумна, безумна. Весь весь весь вопрос в том, достаточно ли она безумна, чтобы оказаться верной.'\n",
    "    current_word = ''\n",
    "    sentence_change = ''\n",
    "    for words in re.findall(r'\\w+[.,!]*', sentence):\n",
    "        if re.findall(r'\\w+', words.lower())[0] not in current_word:\n",
    "            sentence_change += words + \" \"\n",
    "            current_word = re.findall(r'\\w+', words.lower()) \n",
    "    print(sentence_change)"
   ]
  },
  {
   "cell_type": "code",
   "execution_count": 35,
   "metadata": {},
   "outputs": [
    {
     "name": "stdout",
     "output_type": "stream",
     "text": [
      "Ваша идея конечно, безумна, Весь вопрос в том, достаточно ли она безумна, чтобы оказаться верной. \n"
     ]
    }
   ],
   "source": [
    "sentence_check()"
   ]
  },
  {
   "cell_type": "markdown",
   "metadata": {},
   "source": [
    "**Задание 4.**\n",
    "Напишите функцию, которая будет проверять номер сотового телефона на валидность, если он валиден, то переводить его в формат: +7(xxx)-xxx-xx-xx\n",
    "\n",
    "Постарайтесь предусмотреть как можно больше адекватных форматов изначального ввода номера. Примеры валидных форматов:\n",
    "\n",
    "- +7 955 555-55-55;\n",
    "- 9555555555;\n",
    "- 8(955)555-55-55;\n",
    "- +7 955 555 55 55;\n",
    "- 7(955) 555-55-55;\n",
    "- +7 955+555+55+55."
   ]
  },
  {
   "cell_type": "code",
   "execution_count": 8,
   "metadata": {},
   "outputs": [],
   "source": [
    "def auto_check():\n",
    "    user_input_telefon = input('Введите номер тефона:')\n",
    "    telefon_num = re.findall(r'\\d+', user_input_telefon)\n",
    "    telefon_num = ''.join(telefon_num)\n",
    "    if (re.findall(r'^7', telefon_num) or re.findall(r'^8', telefon_num)) and len(telefon_num) == 11:\n",
    "        print('+7(', telefon_num[1:4], ')-', telefon_num[4:7], '-', telefon_num[7:9], '-', telefon_num[9:11], sep = '')\n",
    "    elif re.findall(r'^9', telefon_num) and len(telefon_num) == 10:\n",
    "        print('+7(', telefon_num[0:3], ')-', telefon_num[3:6], '-', telefon_num[6:8], '-', telefon_num[8:10], sep = '')\n",
    "    else: \n",
    "        print(f'{user_input_telefon} - Номер не валидный')"
   ]
  },
  {
   "cell_type": "code",
   "execution_count": 4,
   "metadata": {},
   "outputs": [
    {
     "name": "stdout",
     "output_type": "stream",
     "text": [
      "Введите номер тефона:89675596169\n",
      "+7(967)-559-61-69\n"
     ]
    }
   ],
   "source": [
    "auto_check()"
   ]
  },
  {
   "cell_type": "code",
   "execution_count": 5,
   "metadata": {},
   "outputs": [
    {
     "name": "stdout",
     "output_type": "stream",
     "text": [
      "Введите номер тефона:+7 955 555 55 55\n",
      "+7(955)-555-55-55\n"
     ]
    }
   ],
   "source": [
    "auto_check()"
   ]
  },
  {
   "cell_type": "code",
   "execution_count": 9,
   "metadata": {},
   "outputs": [
    {
     "name": "stdout",
     "output_type": "stream",
     "text": [
      "Введите номер тефона:556975\n",
      "556975 - Номер не валидный\n"
     ]
    }
   ],
   "source": [
    "auto_check()"
   ]
  }
 ],
 "metadata": {
  "kernelspec": {
   "display_name": "Python 3",
   "language": "python",
   "name": "python3"
  },
  "language_info": {
   "codemirror_mode": {
    "name": "ipython",
    "version": 3
   },
   "file_extension": ".py",
   "mimetype": "text/x-python",
   "name": "python",
   "nbconvert_exporter": "python",
   "pygments_lexer": "ipython3",
   "version": "3.7.6"
  }
 },
 "nbformat": 4,
 "nbformat_minor": 4
}
