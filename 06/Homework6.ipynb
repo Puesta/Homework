{
 "cells": [
  {
   "cell_type": "markdown",
   "metadata": {},
   "source": [
    "**Задание №1** Переведите содержимое файла *purchase_log.txt* в словарь purchases вида:\n",
    "```python\n",
    "{'1840e0b9d4': 'Продукты', ...}\n",
    "```"
   ]
  },
  {
   "cell_type": "code",
   "execution_count": 2,
   "metadata": {},
   "outputs": [],
   "source": [
    "import json"
   ]
  },
  {
   "cell_type": "code",
   "execution_count": null,
   "metadata": {},
   "outputs": [],
   "source": [
    "purchases_dict = {}\n",
    "a = []\n",
    "i = 0\n",
    "with open('purchase_log.txt', encoding = 'utf-8') as f:\n",
    "    for line in f:\n",
    "        if i != 0:\n",
    "            line = line.strip()\n",
    "\n",
    "            for val in json.loads(line).values():\n",
    "                a.append(val)\n",
    "            purchases_dict[a[0]] = a[1]\n",
    "            a = []\n",
    "        \n",
    "        i += 1\n",
    "            \n",
    "(purchases_dict)"
   ]
  },
  {
   "cell_type": "markdown",
   "metadata": {},
   "source": [
    "Вариант №2 - без переменной i, но с файлом в оперативной памяти"
   ]
  },
  {
   "cell_type": "code",
   "execution_count": null,
   "metadata": {},
   "outputs": [],
   "source": [
    "purchases = open('purchase_log.txt', encoding = 'utf-8').readlines() \n",
    "purchases_dict = {}\n",
    "a = []\n",
    "for line in purchases[1:]:\n",
    "    line = line.strip()\n",
    "\n",
    "    for val in json.loads(line).values():\n",
    "         a.append(val)\n",
    "    purchases_dict[a[0]] = a[1]\n",
    "    a = []\n",
    "           "
   ]
  },
  {
   "cell_type": "markdown",
   "metadata": {},
   "source": [
    "**Задание №2** Для каждого user_id в файле *visit_log.csv* определите третий столбец с категорией покупки (если покупка была, сам файл *visit_log.csv* изменять не надо). Запишите в файл *funnel.csv* визиты из файла *visit_log.csv*, в которых были покупки с указанием категории.\n",
    "\n",
    "Учтите условия на данные:\n",
    "- содержимое *purchase_log.txt* помещается в оперативную память компьютера\n",
    "- содержимое *visit_log.csv* - нет; используйте только построчную обработку этого файла"
   ]
  },
  {
   "cell_type": "code",
   "execution_count": 51,
   "metadata": {},
   "outputs": [
    {
     "name": "stdout",
     "output_type": "stream",
     "text": [
      "1840e0b9d4,other,Продукты\n",
      "4e4f90fcfb,context,Электроника\n",
      "afea8d72fc,other,Электроника\n"
     ]
    }
   ],
   "source": [
    "purchases = open('purchase_log.txt', encoding = 'utf-8').readlines() \n",
    "f = open('visit_log.csv', 'r')\n",
    "i = 0\n",
    "a = []\n",
    "with open('funnel.csv', 'w') as w:\n",
    "    for line in f:\n",
    "        visit = line.strip().split(',')  \n",
    "        for purch_value in purchases[1:10]:\n",
    "            purch_value = purch_value.strip()\n",
    "            for val in json.loads(purch_value).values():\n",
    "                a.append(val)\n",
    "            if visit[0] == a[0]:\n",
    "                print(line.strip() + ',' + a[1], end = '\\n')\n",
    "                w.write(line.strip() + ',' + a[1] + '\\n')\n",
    "            a = []\n",
    "            \n",
    "        i += 1\n",
    "        if i > 100:\n",
    "            break\n",
    "        \n",
    "f.close()\n",
    "w.close()"
   ]
  },
  {
   "cell_type": "markdown",
   "metadata": {},
   "source": [
    "Чтобы отработать весь файл - необходимо убрать ограничения на **i** и сделать из \"purchases[1:10]\" - \"purchases[1:]\"\n",
    " Но получается довольно долго!"
   ]
  },
  {
   "cell_type": "code",
   "execution_count": 30,
   "metadata": {},
   "outputs": [],
   "source": []
  }
 ],
 "metadata": {
  "kernelspec": {
   "display_name": "Python 3",
   "language": "python",
   "name": "python3"
  },
  "language_info": {
   "codemirror_mode": {
    "name": "ipython",
    "version": 3
   },
   "file_extension": ".py",
   "mimetype": "text/x-python",
   "name": "python",
   "nbconvert_exporter": "python",
   "pygments_lexer": "ipython3",
   "version": "3.7.6"
  }
 },
 "nbformat": 4,
 "nbformat_minor": 4
}
