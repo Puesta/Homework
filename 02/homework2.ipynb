{
 "cells": [
  {
   "cell_type": "markdown",
   "metadata": {},
   "source": [
    "**Задание 1**. Даны 2 строки: *long_phrase* и *short_phrase*. \\n\",\n",
    "    \"Напишите код, который проверяет действительно ли длинная фраза *long_phrase* длиннее короткой *short_phrase*. И выводит *True* или *False* в зависимости от результата сравнения."
   ]
  },
  {
   "cell_type": "code",
   "execution_count": 15,
   "metadata": {},
   "outputs": [],
   "source": [
    "long_phrase = 'Насколько проще было бы писать программы, если бы не заказчики'\n",
    "short_phrase = '640Кб должно хватить для любых задач. Билл Гейтс (по легенде)'"
   ]
  },
  {
   "cell_type": "code",
   "execution_count": 16,
   "metadata": {},
   "outputs": [
    {
     "data": {
      "text/plain": [
       "True"
      ]
     },
     "execution_count": 16,
     "metadata": {},
     "output_type": "execute_result"
    }
   ],
   "source": [
    "len(long_phrase) > len(short_phrase) "
   ]
  },
  {
   "cell_type": "markdown",
   "metadata": {},
   "source": [
    " **Задание 2**. Дано значение объема файла в байтах (*в мегабайте 2^20 байт*). Напишите перевод этого значения в мегабайты в формате: \\\"*Объем файла равен 213.68Mb*\\\"."
   ]
  },
  {
   "cell_type": "code",
   "execution_count": 17,
   "metadata": {},
   "outputs": [
    {
     "name": "stdout",
     "output_type": "stream",
     "text": [
      "Введите объем файла в байтах -  224062000\n",
      "Объем файла равен  213.68 Mb\n"
     ]
    }
   ],
   "source": [
    "user_input = int(input('Введите объем файла в байтах - '))\n",
    "volume = round(user_input / (2 ** 20), 2)\n",
    "print('Объем файла равен ', volume, 'Mb')"
   ]
  },
  {
   "cell_type": "markdown",
   "metadata": {},
   "source": [
    "**Задание 3**. Разработать приложение для определения знака зодиака по дате рождения. Пример:  \n",
    "\n",
    "Введите месяц: март\n",
    "\n",
    "Введите число: 6\n",
    "\n",
    "Вывод: Рыбы\n"
   ]
  },
  {
   "cell_type": "markdown",
   "metadata": {},
   "source": [
    "!! Огромный кошмарный код если честно... Наверное можно короче"
   ]
  },
  {
   "cell_type": "code",
   "execution_count": 65,
   "metadata": {},
   "outputs": [
    {
     "name": "stdout",
     "output_type": "stream",
     "text": [
      "Введите месяц: апрель\n",
      "Введите число: 5\n",
      "Вывод: Овен\n"
     ]
    }
   ],
   "source": [
    "user_input_month = input('Введите месяц: ')\n",
    "if user_input_month.upper() == 'ЯНВАРЬ' or user_input_month == '1':\n",
    "    user_input_date = int(input('Введите число: '))\n",
    "    if user_input_date >= 21 and user_input_date <= 32:\n",
    "        print('Вывод: Водолей')\n",
    "    elif user_input_date < 21 and user_input_date > 0:\n",
    "        print('Вывод: Козерог')\n",
    "    else:\n",
    "        print('Неверное число - попробуйте еще раз. Пожалуйста введите дату с 1 по 31')\n",
    "elif user_input_month.upper() == 'ФЕВРАЛЬ' or user_input_month == '2':\n",
    "    user_input_date = int(input('Введите число: '))\n",
    "    if user_input_date >= 20 and user_input_date <= 29:\n",
    "        print('Вывод: Рыбы')\n",
    "    elif user_input_date < 20 and user_input_date > 0:\n",
    "        print('Вывод: Водолей')\n",
    "    else:\n",
    "        print('Неверное число - попробуйте еще раз. Пожалуйста введите дату с 1 по 29')\n",
    "elif user_input_month.upper() == 'МАРТ' or user_input_month == '3':\n",
    "    user_input_date = int(input('Введите число: '))\n",
    "    if user_input_date >= 21 and user_input_date <= 31:\n",
    "        print('Вывод: Овен')\n",
    "    elif user_input_date < 21 and user_input_date > 0:\n",
    "        print('Вывод: Рыбы')\n",
    "    else:\n",
    "        print('Неверное число - попробуйте еще раз. Пожалуйста введите дату с 1 по 31')\n",
    "elif user_input_month.upper() == 'АПРЕЛЬ' or user_input_month == '4':\n",
    "    user_input_date = int(input('Введите число: '))\n",
    "    if user_input_date >= 21 and user_input_date <= 30:\n",
    "        print('Вывод: Телец')\n",
    "    elif user_input_date < 21 and user_input_date > 0:\n",
    "        print('Вывод: Овен')\n",
    "    else:\n",
    "        print('Неверное число - попробуйте еще раз. Пожалуйста введите дату с 1 по 30')\n",
    "elif user_input_month.upper() == 'МАЙ' or user_input_month == '5':\n",
    "    user_input_date = int(input('Введите число: '))\n",
    "    if user_input_date >= 22 and user_input_date <= 31:\n",
    "        print('Вывод: Близнецы')\n",
    "    elif user_input_date < 22 and user_input_date > 0:\n",
    "        print('Вывод: Телец')\n",
    "    else:\n",
    "        print('Неверное число - попробуйте еще раз. Пожалуйста введите дату с 1 по 31')\n",
    "elif user_input_month.upper() == 'ИЮНЬ' or user_input_month == '6':\n",
    "    user_input_date = int(input('Введите число: '))\n",
    "    if user_input_date >= 22 and user_input_date <= 30:\n",
    "        print('Вывод: Рак')\n",
    "    elif user_input_date < 22 and user_input_date > 0:\n",
    "        print('Вывод: Близнецы')\n",
    "    else:\n",
    "        print('Неверное число - попробуйте еще раз. Пожалуйста введите дату с 1 по 30')\n",
    "elif user_input_month.upper() == 'ИЮЛЬ' or user_input_month == '7':\n",
    "    user_input_date = int(input('Введите число: '))\n",
    "    if user_input_date >= 23 and user_input_date <= 31:\n",
    "        print('Вывод: Лев')\n",
    "    elif user_input_date < 23 and user_input_date > 0:\n",
    "        print('Вывод: Рак')\n",
    "    else:\n",
    "        print('Неверное число - попробуйте еще раз. Пожалуйста введите дату с 1 по 31')\n",
    "elif user_input_month.upper() == 'АВГУСТ' or user_input_month == '8':\n",
    "    user_input_date = int(input('Введите число: '))\n",
    "    if user_input_date >= 24 and user_input_date <= 31:\n",
    "        print('Вывод: Дева')\n",
    "    elif user_input_date < 24 and user_input_date > 0:\n",
    "        print('Вывод: Лев')\n",
    "    else:\n",
    "        print('Неверное число - попробуйте еще раз. Пожалуйста введите дату с 1 по 31')\n",
    "elif user_input_month.upper() == 'СЕНТЯБРЬ' or user_input_month == '9':\n",
    "    user_input_date = int(input('Введите число: '))\n",
    "    if user_input_date >= 23 and user_input_date <= 30:\n",
    "        print('Вывод: Весы')\n",
    "    elif user_input_date < 23 and user_input_date > 0:\n",
    "        print('Вывод: Дева')\n",
    "    else:\n",
    "        print('Неверное число - попробуйте еще раз. Пожалуйста введите дату с 1 по 30')\n",
    "elif user_input_month.upper() == 'ОКТЯБРЬ' or user_input_month == '10':\n",
    "    user_input_date = int(input('Введите число: '))\n",
    "    if user_input_date >= 23 and user_input_date <= 31:\n",
    "        print('Вывод: Скорпион')\n",
    "    elif user_input_date < 23 and user_input_date > 0:\n",
    "        print('Вывод: Весы')\n",
    "    else:\n",
    "        print('Неверное число - попробуйте еще раз. Пожалуйста введите дату с 1 по 31')\n",
    "elif user_input_month.upper() == 'НОЯБРЬ' or user_input_month == '11':\n",
    "    user_input_date = int(input('Введите число: '))\n",
    "    if user_input_date >= 22 and user_input_date <= 30:\n",
    "        print('Вывод: Стрелец')\n",
    "    elif user_input_date < 22 and user_input_date > 0:\n",
    "        print('Вывод: Скорпион')\n",
    "    else:\n",
    "        print('Неверное число - попробуйте еще раз. Пожалуйста введите дату с 1 по 30')\n",
    "elif user_input_month.upper() == 'ДЕКАБРЬ' or user_input_month == '12':\n",
    "    user_input_date = int(input('Введите число: '))\n",
    "    if user_input_date >= 22 and user_input_date <= 31:\n",
    "        print('Вывод: Козерог')\n",
    "    elif user_input_date < 22 and user_input_date > 0:\n",
    "        print('Вывод: Стрелец')\n",
    "    else:        \n",
    "        print('Неверное число - попробуйте еще раз. Пожалуйста введите дату с 1 по 31')\n",
    "else:\n",
    "    print('Неверный месяц - попробуйте еще раз. Введите месяц словами или цифрами от 1 до 12')  \n",
    "\n"
   ]
  },
  {
   "cell_type": "markdown",
   "metadata": {},
   "source": [
    "**Задание 4.** Нужно разработать приложение для финансового планирования. Приложение учитывает сколько уходит на ипотеку, \"на жизнь\" и сколько нужно отложить на пенсию. Пользователь вводит:\n",
    "\n",
    "заработанную плату в месяц.\n",
    "сколько процентов от ЗП уходит на ипотеку.\n",
    "сколько процентов от ЗП уходит \"на жизнь\".\n",
    "сколько раз приходит премия в год.\n",
    "Остальная часть заработанной платы откладывается на пенсию.\n",
    "\n",
    "Также пользователю приходит премия в размере зарплаты, от которой половина уходит на отпуск, а вторая половина откладывается.\n",
    "\n",
    "Программа должна учитывать сколько премий было в год.\n",
    "\n",
    "Нужно вывести сколько денег тратит пользователь на ипотеку и сколько он накопит за год.\n",
    "\n",
    "Пример:\n",
    "\n",
    "Введите заработанную плату в месяц: 100000\n",
    "\n",
    "Введите сколько процентов уходит на ипотеку: 30\n",
    "\n",
    "Введите сколько процентов уходит на жизнь: 50\n",
    "\n",
    "Введите количество премий за год: 2\n",
    "\n",
    "Вывод: На ипотеку было потрачено: 360000 рублей Было накоплено: 340000 рублей"
   ]
  },
  {
   "cell_type": "code",
   "execution_count": 6,
   "metadata": {},
   "outputs": [
    {
     "name": "stdout",
     "output_type": "stream",
     "text": [
      "Введите заработанную плату в месяц:  100000\n",
      "Введите сколько процентов уходит на ипотеку:  50\n",
      "Введите сколько процентов уходит на жизнь:  55\n",
      "Введите количество премий за год:  1\n",
      "Вывод: На ипотеку было потрачено: 600000 рублей. Вам не хватает денег даже на отпуск\n"
     ]
    }
   ],
   "source": [
    "input_salary = int(input('Введите заработанную плату в месяц:  '))\n",
    "input_ipoteka_percent = int(input('Введите сколько процентов уходит на ипотеку:  '))\n",
    "if input_ipoteka_percent > 100 or input_ipoteka_percent < 0: \n",
    "    print('Значение процента трат на ипотеку должно быть от 0 до 100')\n",
    "else:\n",
    "    input_life_percent = int(input('Введите сколько процентов уходит на жизнь:  '))\n",
    "    if input_life_percent > 100 or input_life_percent < 0:\n",
    "        print('Значение процента трат на жизнь должно быть от 0 до 100')\n",
    "    else:    \n",
    "        input_bonus_quantity = int(input('Введите количество премий за год:  '))\n",
    "        salary_year = input_salary * 12 \n",
    "        bonus_year =  input_salary * input_bonus_quantity\n",
    "        ipoteka = salary_year* input_ipoteka_percent / 100\n",
    "        vacation = bonus_year / 2\n",
    "        life = salary_year * input_life_percent / 100\n",
    "        accumulation = salary_year + bonus_year - ipoteka - life - vacation\n",
    "        if accumulation < 0:\n",
    "            print('Вывод: На ипотеку было потрачено:', int(ipoteka) ,'рублей. Вам не хватает денег даже на отпуск.')\n",
    "        else:     \n",
    "            print('Вывод: На ипотеку было потрачено:', int(ipoteka) , 'рублей. Было накоплено:' , int(accumulation) , 'рублей.' )\n",
    "        "
   ]
  },
  {
   "cell_type": "code",
   "execution_count": null,
   "metadata": {},
   "outputs": [],
   "source": []
  },
  {
   "cell_type": "code",
   "execution_count": null,
   "metadata": {},
   "outputs": [],
   "source": []
  }
 ],
 "metadata": {
  "kernelspec": {
   "display_name": "Python 3",
   "language": "python",
   "name": "python3"
  },
  "language_info": {
   "codemirror_mode": {
    "name": "ipython",
    "version": 3
   },
   "file_extension": ".py",
   "mimetype": "text/x-python",
   "name": "python",
   "nbconvert_exporter": "python",
   "pygments_lexer": "ipython3",
   "version": "3.7.6"
  }
 },
 "nbformat": 4,
 "nbformat_minor": 4
}
